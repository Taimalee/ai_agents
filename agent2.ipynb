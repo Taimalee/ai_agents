{
 "cells": [
  {
   "cell_type": "code",
   "execution_count": 1,
   "metadata": {},
   "outputs": [],
   "source": [
    "import os\n",
    "from langchain.chat_models import ChatOpenAI\n",
    "from langchain.prompts import PromptTemplate\n",
    "from langchain.chains import LLMChain\n",
    "from dotenv import load_dotenv\n",
    "from fpdf import FPDF"
   ]
  },
  {
   "cell_type": "code",
   "execution_count": 2,
   "metadata": {},
   "outputs": [],
   "source": [
    "# Load API Key\n",
    "load_dotenv()\n",
    "openai_api_key = os.getenv(\"OPENAI_API_KEY\")"
   ]
  },
  {
   "cell_type": "code",
   "execution_count": 3,
   "metadata": {},
   "outputs": [
    {
     "name": "stderr",
     "output_type": "stream",
     "text": [
      "C:\\Users\\igbin\\AppData\\Local\\Temp\\ipykernel_18564\\3182401066.py:2: LangChainDeprecationWarning: The class `ChatOpenAI` was deprecated in LangChain 0.0.10 and will be removed in 1.0. An updated version of the class exists in the :class:`~langchain-openai package and should be used instead. To use it run `pip install -U :class:`~langchain-openai` and import as `from :class:`~langchain_openai import ChatOpenAI``.\n",
      "  llm = ChatOpenAI(model_name=\"gpt-3.5-turbo\", openai_api_key=openai_api_key)\n"
     ]
    }
   ],
   "source": [
    "# Initialize LangChain LLM\n",
    "llm = ChatOpenAI(model_name=\"gpt-3.5-turbo\", openai_api_key=openai_api_key)\n"
   ]
  },
  {
   "cell_type": "code",
   "execution_count": 4,
   "metadata": {},
   "outputs": [
    {
     "name": "stderr",
     "output_type": "stream",
     "text": [
      "C:\\Users\\igbin\\AppData\\Local\\Temp\\ipykernel_18564\\2571619214.py:19: LangChainDeprecationWarning: The class `LLMChain` was deprecated in LangChain 0.1.17 and will be removed in 1.0. Use :meth:`~RunnableSequence, e.g., `prompt | llm`` instead.\n",
      "  resume_chain = LLMChain(llm=llm, prompt=resume_prompt)\n"
     ]
    }
   ],
   "source": [
    "# Resume Template\n",
    "resume_template = \"\"\"\n",
    "Generate a professional resume for the following person:\n",
    "\n",
    "Name: {name}\n",
    "Email: {email}\n",
    "Phone: {phone}\n",
    "LinkedIn: {linkedin}\n",
    "Experience: {experience}\n",
    "Skills: {skills}\n",
    "Education: {education}\n",
    "Certifications: {certifications}\n",
    "Job Description: {job_description}\n",
    "\n",
    "Format it professionally with sections: Summary, Experience, Skills, Education, and Certifications.\n",
    "\"\"\"\n",
    "\n",
    "resume_prompt = PromptTemplate(input_variables=[\"name\", \"email\", \"phone\", \"linkedin\", \"experience\", \"skills\", \"education\", \"certifications\", \"job_description\"], template=resume_template)\n",
    "resume_chain = LLMChain(llm=llm, prompt=resume_prompt)"
   ]
  },
  {
   "cell_type": "code",
   "execution_count": 5,
   "metadata": {},
   "outputs": [],
   "source": [
    "# Cover Letter Template\n",
    "cover_letter_template = \"\"\"\n",
    "Generate a professional cover letter for the following job:\n",
    "\n",
    "Applicant Name: {name}\n",
    "Email: {email}\n",
    "Phone: {phone}\n",
    "LinkedIn: {linkedin}\n",
    "Experience: {experience}\n",
    "Skills: {skills}\n",
    "Job Description: {job_description}\n",
    "\n",
    "Address the letter formally and customize it based on the job description.\n",
    "\"\"\"\n",
    "\n",
    "cover_letter_prompt = PromptTemplate(input_variables=[\"name\", \"email\", \"phone\", \"linkedin\", \"experience\", \"skills\", \"job_description\"], template=cover_letter_template)\n",
    "cover_letter_chain = LLMChain(llm=llm, prompt=cover_letter_prompt)"
   ]
  },
  {
   "cell_type": "code",
   "execution_count": 6,
   "metadata": {},
   "outputs": [],
   "source": [
    "# Function to generate resume and cover letter\n",
    "def generate_resume_cover_letter(user_data):\n",
    "    resume = resume_chain.run(user_data)\n",
    "    cover_letter = cover_letter_chain.run(user_data)\n",
    "    return resume, cover_letter"
   ]
  },
  {
   "cell_type": "code",
   "execution_count": 7,
   "metadata": {},
   "outputs": [],
   "source": [
    "# Function to create a PDF\n",
    "def create_pdf(resume, cover_letter, filename=\"resume_cover_letter.pdf\"):\n",
    "    pdf = FPDF()\n",
    "    pdf.set_auto_page_break(auto=True, margin=15)\n",
    "    \n",
    "    # Add Resume Page\n",
    "    pdf.add_page()\n",
    "    pdf.set_font(\"Arial\", style=\"B\", size=16)\n",
    "    pdf.cell(200, 10, \"Professional Resume\", ln=True, align=\"C\")\n",
    "    pdf.ln(10)\n",
    "    pdf.set_font(\"Arial\", size=12)\n",
    "    pdf.multi_cell(0, 10, resume)\n",
    "\n",
    "    # Add Cover Letter Page\n",
    "    pdf.add_page()\n",
    "    pdf.set_font(\"Arial\", style=\"B\", size=16)\n",
    "    pdf.cell(200, 10, \"Cover Letter\", ln=True, align=\"C\")\n",
    "    pdf.ln(10)\n",
    "    pdf.set_font(\"Arial\", size=12)\n",
    "    pdf.multi_cell(0, 10, cover_letter)\n",
    "\n",
    "    pdf.output(filename)\n",
    "    return filename"
   ]
  },
  {
   "cell_type": "code",
   "execution_count": 8,
   "metadata": {},
   "outputs": [
    {
     "name": "stderr",
     "output_type": "stream",
     "text": [
      "C:\\Users\\igbin\\AppData\\Local\\Temp\\ipykernel_18564\\2215637327.py:3: LangChainDeprecationWarning: The method `Chain.run` was deprecated in langchain 0.1.0 and will be removed in 1.0. Use :meth:`~invoke` instead.\n",
      "  resume = resume_chain.run(user_data)\n"
     ]
    },
    {
     "name": "stdout",
     "output_type": "stream",
     "text": [
      "Resume and Cover Letter saved as: resume_cover_letter.pdf\n"
     ]
    }
   ],
   "source": [
    "if __name__ == \"__main__\":\n",
    "    # Collect user inputs\n",
    "    user_info = {\n",
    "        \"name\": input(\"Enter your full name: \"),\n",
    "        \"email\": input(\"Enter your email: \"),\n",
    "        \"phone\": input(\"Enter your phone number: \"),\n",
    "        \"linkedin\": input(\"Enter your LinkedIn profile URL: \"),\n",
    "        \"experience\": input(\"Describe your relevant work experience: \"),\n",
    "        \"skills\": input(\"List your top skills (comma-separated): \"),\n",
    "        \"education\": input(\"Enter your highest education degree: \"),\n",
    "        \"certifications\": input(\"List any relevant certifications: \"),\n",
    "        \"job_description\": input(\"Paste the job description: \")\n",
    "    }\n",
    "\n",
    "    # Generate resume and cover letter\n",
    "    resume_text, cover_letter_text = generate_resume_cover_letter(user_info)\n",
    "\n",
    "    # Save to PDF\n",
    "    pdf_filename = create_pdf(resume_text, cover_letter_text)\n",
    "    print(f\"Resume and Cover Letter saved as: {pdf_filename}\")"
   ]
  },
  {
   "cell_type": "code",
   "execution_count": null,
   "metadata": {},
   "outputs": [
    {
     "name": "stderr",
     "output_type": "stream",
     "text": [
      "C:\\Users\\igbin\\AppData\\Local\\Temp\\ipykernel_41900\\2215637327.py:3: LangChainDeprecationWarning: The method `Chain.run` was deprecated in langchain 0.1.0 and will be removed in 1.0. Use :meth:`~invoke` instead.\n",
      "  resume = resume_chain.run(user_data)\n"
     ]
    },
    {
     "name": "stdout",
     "output_type": "stream",
     "text": [
      "Generated PDF: resume_cover_letter.pdf\n"
     ]
    }
   ],
   "source": [
    "# # Example Usage\n",
    "# if __name__ == \"__main__\":\n",
    "#     user_info = {\n",
    "#         \"name\": \"John Doe\",\n",
    "#         \"email\": \"johndoe@example.com\",\n",
    "#         \"phone\": \"123-456-7890\",\n",
    "#         \"linkedin\": \"linkedin.com/in/johndoe\",\n",
    "#         \"experience\": \"Software Engineer at XYZ Inc. (2018-Present)\",\n",
    "#         \"skills\": \"Python, LangChain, AI Development, Cloud Computing\",\n",
    "#         \"education\": \"BSc in Computer Science, Stanford University\",\n",
    "#         \"certifications\": \"AWS Certified Solutions Architect\",\n",
    "#         \"job_description\": \"We are looking for a Software Engineer with expertise in AI and cloud computing.\"\n",
    "#     }\n",
    "\n",
    "#     resume_text, cover_letter_text = generate_resume_cover_letter(user_info)\n",
    "#     pdf_filename = create_pdf(resume_text, cover_letter_text)\n",
    "#     print(f\"Generated PDF: {pdf_filename}\")"
   ]
  },
  {
   "cell_type": "code",
   "execution_count": null,
   "metadata": {},
   "outputs": [],
   "source": []
  }
 ],
 "metadata": {
  "kernelspec": {
   "display_name": ".venv",
   "language": "python",
   "name": "python3"
  },
  "language_info": {
   "codemirror_mode": {
    "name": "ipython",
    "version": 3
   },
   "file_extension": ".py",
   "mimetype": "text/x-python",
   "name": "python",
   "nbconvert_exporter": "python",
   "pygments_lexer": "ipython3",
   "version": "3.12.9"
  }
 },
 "nbformat": 4,
 "nbformat_minor": 2
}
